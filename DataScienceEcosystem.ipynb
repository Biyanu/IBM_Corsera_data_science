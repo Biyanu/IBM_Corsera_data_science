{
 "cells": [
  {
   "cell_type": "markdown",
   "id": "b2786552",
   "metadata": {},
   "source": [
    "# Data Science Tools and Ecosystem"
   ]
  },
  {
   "cell_type": "markdown",
   "id": "22629330",
   "metadata": {},
   "source": [
    "In this notebook, Data Science Tools and Ecosystem are summarized"
   ]
  },
  {
   "cell_type": "markdown",
   "id": "b091ca45",
   "metadata": {},
   "source": [
    "**Objectives:**\n",
    "- List popular languages for Data Science\n",
    "- The list the common tools that are usefull in Data Science\n",
    "- Writing markdown in Jupyter notebook\n",
    "- Create ordered and unordered list in the markdown"
   ]
  },
  {
   "cell_type": "markdown",
   "id": "64e8a131",
   "metadata": {},
   "source": [
    "Some of the popular languages that Data Scientists use are:\n",
    "1. Python\n",
    "2. R\n",
    "3. SQL"
   ]
  },
  {
   "cell_type": "markdown",
   "id": "f0b674e2",
   "metadata": {},
   "source": [
    "Some of the commonly used libraries used by Data Scientists include:\n",
    "1. Pandas\n",
    "2. SciKit learn\n",
    "3. Keras\n",
    "4. Matplotlib\n",
    "5. Tensorflow\n",
    "    "
   ]
  },
  {
   "cell_type": "markdown",
   "id": "bb399bf0",
   "metadata": {},
   "source": [
    "|Data Science Tools|\n",
    "|------------------|\n",
    "|visual Studio Code|\n",
    "|Anaconda|\n",
    "|Spyder|"
   ]
  },
  {
   "cell_type": "markdown",
   "id": "5ddec48d",
   "metadata": {},
   "source": [
    "### Below are a few examples of evaluating arithmetic expressions in Python\n"
   ]
  },
  {
   "cell_type": "code",
   "execution_count": 1,
   "id": "0c79f126",
   "metadata": {},
   "outputs": [
    {
     "data": {
      "text/plain": [
       "17"
      ]
     },
     "execution_count": 1,
     "metadata": {},
     "output_type": "execute_result"
    }
   ],
   "source": [
    "(3*4)+5"
   ]
  },
  {
   "cell_type": "code",
   "execution_count": 18,
   "id": "6e3dd524",
   "metadata": {},
   "outputs": [
    {
     "name": "stdout",
     "output_type": "stream",
     "text": [
      "This results in 3.3333333333333335\n",
      "\n",
      " which is equivalent to 3 hours and 20 minutes\n"
     ]
    }
   ],
   "source": [
    "# This will convert 200 minutes to hours by diving by 60\n",
    "import math \n",
    "minutes = 200\n",
    "hours  = minutes/60\n",
    "hour = math.floor(hours)\n",
    "#print('full hour',hour)\n",
    "print('This results in {}'.format(hours))\n",
    "print('\\n which is equivalent to {}'.format(int(hours)),'hours','and {}'.format(int((hours-hour)*60)),\"minutes\")"
   ]
  },
  {
   "cell_type": "markdown",
   "id": "c517f3f2",
   "metadata": {},
   "source": [
    "## Author\n",
    "Biyanu Zerom"
   ]
  }
 ],
 "metadata": {
  "kernelspec": {
   "display_name": "Python 3 (ipykernel)",
   "language": "python",
   "name": "python3"
  },
  "language_info": {
   "codemirror_mode": {
    "name": "ipython",
    "version": 3
   },
   "file_extension": ".py",
   "mimetype": "text/x-python",
   "name": "python",
   "nbconvert_exporter": "python",
   "pygments_lexer": "ipython3",
   "version": "3.9.13"
  }
 },
 "nbformat": 4,
 "nbformat_minor": 5
}
